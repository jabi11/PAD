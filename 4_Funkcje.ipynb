{
  "cells": [
    {
      "cell_type": "markdown",
      "metadata": {
        "id": "Y1wtt56PN5Yi"
      },
      "source": [
        "# Funkcje"
      ]
    },
    {
      "cell_type": "markdown",
      "metadata": {
        "id": "Wgj6yktsN5Yk"
      },
      "source": [
        "## Definiowanie Fukncji"
      ]
    },
    {
      "cell_type": "markdown",
      "metadata": {
        "id": "rULWDyD3N5Yk"
      },
      "source": [
        "- Widzieliśmy już pętle for jako sposób na przestrzeganie zasady DRY (Don't Repeat Yourself).\n",
        "- Następnym ważnym krokiem są funkcje.\n",
        "- Funkcje umożliwiają zaprogramowanie bloku kodu, który działa tylko po wywołaniu.\n",
        "- Oznacza to, że możemy uniknąć konieczności ponownego definiowania tych samych operacji, gdy wykonujemy je wielokrotnie.\n",
        "<br><br>\n",
        "- Funkcja przyjmuje parametry i zwraca dane wyjściowe.\n",
        "- Wartość przekazana jako parametr nazywana jest argumentem.\n",
        "- Funkcja powiązana z obiektem nazywana jest metodą.\n",
        "- Instancja funkcji nazywana jest wywołaniem funkcji.\n",
        "- Podstawowa składnia funkcji jest następująca:"
      ]
    },
    {
      "cell_type": "code",
      "execution_count": null,
      "metadata": {
        "id": "S22JI3J8N5Yl"
      },
      "outputs": [],
      "source": [
        "# function definition\n",
        "def function_name (param1, param2 = 1):\n",
        "    '''\n",
        "    DOCSTRING: explains function\n",
        "    INPUT: Name (str)\n",
        "    OUTPUT: Hello Name (str)\n",
        "    '''\n",
        "    # add code to run\n",
        "    return(\"Hello \" + param1)"
      ]
    },
    {
      "cell_type": "code",
      "execution_count": null,
      "metadata": {
        "id": "LwsLQgorN5Ym"
      },
      "outputs": [],
      "source": [
        "# function call\n",
        "function_name(\"Zain\")"
      ]
    },
    {
      "cell_type": "code",
      "execution_count": null,
      "metadata": {
        "id": "_J5RjbQTN5Ym"
      },
      "outputs": [],
      "source": [
        "function_name"
      ]
    },
    {
      "cell_type": "markdown",
      "metadata": {
        "id": "bVCAoBcMN5Yn"
      },
      "source": [
        "- Słowo kluczowe __def__ pokazuje pythona, którego zamierzasz zdefiniować.\n",
        "- __Nazwa funkcji__ jest następna, nazwij wszystkie małe litery, oddzielone podkreśleniami, nie używaj wbudowanych słów kluczowych: zobacz PEP8 po szczegóły.\n",
        "- __Parametry__ zdefiniowane w nawiasach.\n",
        "- __Argumenty domyślne__ to argumenty, które mają wartość domyślną do przywrócenia, jeśli nie określono innej wartości. W tym przypadku param2 = 1 oznacza, że ​​param2 będzie wynosić 1, chyba że zostanie określone jako coś innego w wywołaniu funkcji.\n",
        "- __Dwukropek__ oznacza koniec linii definicji, następny wiersz będzie wcięty.\n",
        "- __Docstrings__ wyjaśnij, co robi funkcja: przeczytaj PEP257 lub google __*'python docstrings'*__, aby uzyskać wskazówki.\n",
        "- https://www.python.org/dev/peps/pep-0257/\n",
        "- Słowo kluczowe __return__ wskazuje wyjście funkcji.\n",
        "<br><br>\n",
        "- Wykonując wywołanie funkcji, piszemy nazwę funkcji, a po niej nawiasy zawierające argumenty do przekazania.\n",
        "- __POWOLNY BŁĄD: jeśli wywołasz funkcję bez nawiasów, nie będzie działać!!!__\n",
        "- Po prostu pokaże informacje o funkcji, w tym moduł, do którego należy, jej nazwę i parametry, które przyjmuje."
      ]
    },
    {
      "cell_type": "markdown",
      "metadata": {
        "id": "gqtfipZWN5Yn"
      },
      "source": [
        "## help()"
      ]
    },
    {
      "cell_type": "markdown",
      "metadata": {
        "id": "4WTefT-dN5Yn"
      },
      "source": [
        "- Możemy użyć funkcji help(), aby znaleźć dokumentację, jeśli nie wiemy, co robi funkcja.\n",
        "- Lub naciśnij Shift + Tab.\n",
        "- Aby uzyskać bardziej szczegółową dokumentację, lepiej znaleźć i wykorzystać pełną dokumentację funkcji (google it!)."
      ]
    },
    {
      "cell_type": "code",
      "execution_count": null,
      "metadata": {
        "id": "bsByGahtN5Yo"
      },
      "outputs": [],
      "source": [
        "help(function_name)"
      ]
    },
    {
      "cell_type": "code",
      "execution_count": null,
      "metadata": {
        "id": "snJREQLNN5Yo"
      },
      "outputs": [],
      "source": [
        "help(print)"
      ]
    },
    {
      "cell_type": "markdown",
      "metadata": {
        "id": "5v4mWGUYN5Yo"
      },
      "source": [
        "## Zakres zmiennej"
      ]
    },
    {
      "cell_type": "markdown",
      "metadata": {
        "id": "M3f55qLHN5Yo"
      },
      "source": [
        "- Zakres zmiennej odnosi się do części programu, które mogą odwoływać się do zmiennej.\n",
        "- Istnieją 2 rodzaje zasięgu: lokalny i globalny.\n",
        "— Do zmiennej zdefiniowanej wewnątrz funkcji można się odwoływać tylko wewnątrz tej funkcji: zakres lokalny.\n",
        "— Do zmiennej zdefiniowanej poza funkcją (w ogólnym skrypcie) można się odwoływać wewnątrz funkcji, ale nie można jej modyfikować wewnątrz funkcji (UnboundLocalError).\n",
        "- Aby zmienić go w funkcji, należy go ponownie zdefiniować w funkcji."
      ]
    },
    {
      "cell_type": "code",
      "execution_count": null,
      "metadata": {
        "id": "OWmMSkfCN5Yo"
      },
      "outputs": [],
      "source": [
        "counter = 0\n",
        "\n",
        "def add_to_counter():\n",
        "    counter += 12 # add 12 to counter\n",
        "\n",
        "add_to_counter()"
      ]
    },
    {
      "cell_type": "code",
      "execution_count": null,
      "metadata": {
        "id": "thxE2tDtN5Yo"
      },
      "outputs": [],
      "source": [
        "counter = 0\n",
        "\n",
        "def add_to_counter(count):\n",
        "    return count + 12  # add 12 to counter\n",
        "\n",
        "counter = add_to_counter(counter)\n",
        "\n",
        "print(counter)"
      ]
    },
    {
      "cell_type": "markdown",
      "metadata": {
        "id": "GBVH8cWbN5Yo"
      },
      "source": [
        "## Ćwiczenie 1"
      ]
    },
    {
      "cell_type": "markdown",
      "metadata": {
        "id": "uV8MmJnhN5Yp"
      },
      "source": [
        "Napisz funkcję o nazwie check_range, która sprawdza, czy liczba znajduje się w podanym zakresie (zawiera zarówno niski *__i__* wysoki). <br>\n",
        "Jeśli tak, zwróć „x jest między y a z”. <br>\n",
        "Jeśli tak nie jest, zwróć „x NIE jest między y a z”. <br>\n",
        "Gdzie:\n",
        "- x to liczba\n",
        "- y jest dolną granicą\n",
        "- z to górna granica"
      ]
    },
    {
      "cell_type": "code",
      "execution_count": 4,
      "metadata": {
        "id": "UVcyS8D7N5Yp"
      },
      "outputs": [],
      "source": [
        "# CODE HERE\n",
        "def check_range(x, y, z):\n",
        "  if (x >= y and x <= z):\n",
        "    return \"x jest między y a z\"\n",
        "  else:\n",
        "    return \"x NIE jest między y a z\""
      ]
    },
    {
      "cell_type": "code",
      "execution_count": 5,
      "metadata": {
        "colab": {
          "base_uri": "https://localhost:8080/",
          "height": 35
        },
        "id": "6wy7cV3zN5Yp",
        "outputId": "15db523a-d3bf-4c8c-f40f-bd46e075d033"
      },
      "outputs": [
        {
          "output_type": "execute_result",
          "data": {
            "text/plain": [
              "'x jest między y a z'"
            ],
            "application/vnd.google.colaboratory.intrinsic+json": {
              "type": "string"
            }
          },
          "metadata": {},
          "execution_count": 5
        }
      ],
      "source": [
        "check_range(34, 9, 228)"
      ]
    },
    {
      "cell_type": "code",
      "execution_count": 6,
      "metadata": {
        "colab": {
          "base_uri": "https://localhost:8080/",
          "height": 35
        },
        "id": "EB35gd35N5Yp",
        "outputId": "7b326abc-9c72-42bf-8d85-d625e809f451"
      },
      "outputs": [
        {
          "output_type": "execute_result",
          "data": {
            "text/plain": [
              "'x NIE jest między y a z'"
            ],
            "application/vnd.google.colaboratory.intrinsic+json": {
              "type": "string"
            }
          },
          "metadata": {},
          "execution_count": 6
        }
      ],
      "source": [
        "check_range(7, 2, 5)"
      ]
    },
    {
      "cell_type": "markdown",
      "metadata": {
        "id": "aSPLCXTnN5Yp"
      },
      "source": [
        "Napisz funkcję o nazwie bool_range, która robi to samo, ale zwraca tylko wartość logiczną."
      ]
    },
    {
      "cell_type": "code",
      "execution_count": 7,
      "metadata": {
        "id": "BG9oaNG_N5Yp"
      },
      "outputs": [],
      "source": [
        "# CODE HERE\n",
        "def bool_range(x, y, z):\n",
        "  return x >= y and x <= z"
      ]
    },
    {
      "cell_type": "code",
      "execution_count": 8,
      "metadata": {
        "colab": {
          "base_uri": "https://localhost:8080/"
        },
        "id": "NJbCOIR1N5Yp",
        "outputId": "570aca62-f4ac-44c3-9e66-0b3bf513eca4"
      },
      "outputs": [
        {
          "output_type": "execute_result",
          "data": {
            "text/plain": [
              "True"
            ]
          },
          "metadata": {},
          "execution_count": 8
        }
      ],
      "source": [
        "bool_range(7, 5, 20)"
      ]
    },
    {
      "cell_type": "code",
      "execution_count": 9,
      "metadata": {
        "colab": {
          "base_uri": "https://localhost:8080/"
        },
        "id": "xT4BvsYIN5Yp",
        "outputId": "783eabb2-6e9b-4bfd-e3bf-f0269423257f"
      },
      "outputs": [
        {
          "output_type": "execute_result",
          "data": {
            "text/plain": [
              "False"
            ]
          },
          "metadata": {},
          "execution_count": 9
        }
      ],
      "source": [
        "bool_range(67, 22, 25)"
      ]
    },
    {
      "cell_type": "markdown",
      "metadata": {
        "id": "iCKZ75o4N5Yp"
      },
      "source": [
        "## Ćwiczenie 2"
      ]
    },
    {
      "cell_type": "markdown",
      "metadata": {
        "id": "iJnyrSQ4N5Yq"
      },
      "source": [
        "Napisz funkcję o nazwie unique_list, która pobiera listę i zwraca listę zawierającą tylko unikalne elementy danych wejściowych."
      ]
    },
    {
      "cell_type": "code",
      "execution_count": 11,
      "metadata": {
        "id": "IShHVOh6N5Yq"
      },
      "outputs": [],
      "source": [
        "# CODE HERE\n",
        "def unique_list(input_list):\n",
        "  unique = []\n",
        "  for i in input_list:\n",
        "    if i not in unique:\n",
        "      unique.append(i)\n",
        "  return unique"
      ]
    },
    {
      "cell_type": "code",
      "execution_count": 12,
      "metadata": {
        "colab": {
          "base_uri": "https://localhost:8080/"
        },
        "id": "nno90EBfN5Yq",
        "outputId": "f624a9b2-d899-442e-9a35-bb268cf67402"
      },
      "outputs": [
        {
          "output_type": "execute_result",
          "data": {
            "text/plain": [
              "[1, 3, 5, 6, 4, 2, 12, 63]"
            ]
          },
          "metadata": {},
          "execution_count": 12
        }
      ],
      "source": [
        "my_list = [1,3,5,6,4,3,2,3,3,4,3,4,5,6,6,4,3,2,12,3,5,63,4,5,3,3,2]\n",
        "\n",
        "unique_list(my_list)"
      ]
    },
    {
      "cell_type": "markdown",
      "metadata": {
        "id": "sQQS7O5wN5Yq"
      },
      "source": [
        "Znajdź inny sposób wykonania tej samej operacji bez definiowania funkcji."
      ]
    },
    {
      "cell_type": "code",
      "execution_count": 14,
      "metadata": {
        "colab": {
          "base_uri": "https://localhost:8080/"
        },
        "id": "kL0zO-q2N5Yq",
        "outputId": "fec7fe88-b8d2-4e5c-bbb3-0431313bcfd8"
      },
      "outputs": [
        {
          "output_type": "execute_result",
          "data": {
            "text/plain": [
              "[1, 2, 3, 4, 5, 6, 12, 63]"
            ]
          },
          "metadata": {},
          "execution_count": 14
        }
      ],
      "source": [
        "# CODE HERE\n",
        "list(set(my_list))"
      ]
    },
    {
      "cell_type": "markdown",
      "metadata": {
        "id": "5kfLHpzlN5Yq"
      },
      "source": [
        "## Ćwiczenie 3"
      ]
    },
    {
      "cell_type": "markdown",
      "metadata": {
        "id": "nzEA1CAON5Yq"
      },
      "source": [
        "Napisz funkcję o nazwie objętość_kuli, która przyjmuje promień kuli i zwraca jej objętość zaokrągloną do 2 dp. (Google wzór na objętość kuli, użyj pi = 3,14)"
      ]
    },
    {
      "cell_type": "code",
      "execution_count": 20,
      "metadata": {
        "id": "lD-XXcdKN5Yq"
      },
      "outputs": [],
      "source": [
        "# CODE HERE\n",
        "import math\n",
        "def volume_of_sphere(r):\n",
        "  return round((4/3) * 3.14 * math.pow(r,3), 2)"
      ]
    },
    {
      "cell_type": "code",
      "execution_count": 21,
      "metadata": {
        "colab": {
          "base_uri": "https://localhost:8080/"
        },
        "id": "_xpUYHv1N5Yq",
        "outputId": "36b3697a-6160-4661-9eec-55b504f8cf78"
      },
      "outputs": [
        {
          "output_type": "execute_result",
          "data": {
            "text/plain": [
              "33.49"
            ]
          },
          "metadata": {},
          "execution_count": 21
        }
      ],
      "source": [
        "volume_of_sphere(2)"
      ]
    },
    {
      "cell_type": "code",
      "execution_count": null,
      "metadata": {
        "id": "1qoVPj-AN5Yq"
      },
      "outputs": [],
      "source": []
    },
    {
      "cell_type": "markdown",
      "metadata": {
        "id": "3HOJ06LAN5Yq"
      },
      "source": [
        "## Rekurencja"
      ]
    },
    {
      "cell_type": "markdown",
      "metadata": {
        "id": "z2jPHFnYN5Yr"
      },
      "source": [
        "- Funkcja rekurencyjna to funkcja, która wywołuje siebie w ramach swojej definicji.\n",
        "- Na początku może to być trudne do zrozumienia, ale pomyśl o tym jako o przełamaniu dużego problemu w wielokrotne robienie małego problemu.\n",
        "- Oznacza to, że złożony problem można uprościć, powtarzając przy każdym powtórzeniu prostszą i prostszą formę tego samego problemu.\n",
        "- Musimy jednak podać „najprostszą formę” funkcji, w której funkcja się zatrzymuje, w przeciwnym razie będzie się powtarzać w nieskończoność i wygeneruje błąd.\n",
        "- Nazywamy tę „najprostszą formę” przypadkiem podstawowym.\n",
        "- Najlepiej ilustruje to przykład:"
      ]
    },
    {
      "cell_type": "code",
      "execution_count": null,
      "metadata": {
        "id": "mjhO9bu3N5Yr"
      },
      "outputs": [],
      "source": [
        "# Funkcja, która przyjmuje jako wejście liczbę początkową do odliczania\n",
        "def countdown(n):\n",
        "\n",
        "    # przypadek podstawowy: w tym miejscu funkcja ostatecznie się zatrzyma\n",
        "    if n == 0:\n",
        "        print(0)\n",
        "\n",
        "    # tutaj redukujemy problem do prostszej wersji\n",
        "    else:\n",
        "\n",
        "        #wypisujemy numer odliczania\n",
        "        print(n)\n",
        "\n",
        "        # powtarzamy funkcję z następną najmniejszą liczbą\n",
        "        countdown(n-1)\n",
        "\n",
        "\n",
        "countdown(5)"
      ]
    },
    {
      "cell_type": "code",
      "execution_count": null,
      "metadata": {
        "id": "JxmjyRTMN5Yr"
      },
      "outputs": [],
      "source": []
    },
    {
      "cell_type": "markdown",
      "metadata": {
        "id": "77qErRuCN5Yu"
      },
      "source": [
        "## Ćwiczenie 4"
      ]
    },
    {
      "cell_type": "markdown",
      "metadata": {
        "id": "0MsWMy8JN5Yu"
      },
      "source": [
        "Zdefiniuj funkcję rekurencyjną o nazwie num_fact, która zwraca silnię podanej liczby."
      ]
    },
    {
      "cell_type": "code",
      "execution_count": 30,
      "metadata": {
        "id": "sXkm8CTdN5Yu"
      },
      "outputs": [],
      "source": [
        "# CODE HERE\n",
        "def num_fact(n):\n",
        "  if (n == 1):\n",
        "    return 1\n",
        "\n",
        "  return int(n * num_fact(n-1))"
      ]
    },
    {
      "cell_type": "code",
      "execution_count": 31,
      "metadata": {
        "colab": {
          "base_uri": "https://localhost:8080/"
        },
        "id": "tSWZOpLQN5Yu",
        "outputId": "62ad2df7-ba1a-4bb4-97e0-1944ab7d4f3c"
      },
      "outputs": [
        {
          "output_type": "execute_result",
          "data": {
            "text/plain": [
              "3628800"
            ]
          },
          "metadata": {},
          "execution_count": 31
        }
      ],
      "source": [
        "num_fact(10)"
      ]
    },
    {
      "cell_type": "code",
      "execution_count": null,
      "metadata": {
        "id": "YUaC6ozMN5Yv"
      },
      "outputs": [],
      "source": []
    },
    {
      "cell_type": "markdown",
      "metadata": {
        "id": "JBeUAHznN5Yv"
      },
      "source": [
        "## Dalsza lektura\n",
        "- Python Function Definitions: https://docs.python.org/3/reference/compound_stmts.html#function-definitions\n",
        "- Python Docstring Conventions: https://www.python.org/dev/peps/pep-0257/"
      ]
    },
    {
      "cell_type": "code",
      "execution_count": null,
      "metadata": {
        "id": "YIkaHVR-N5Yv"
      },
      "outputs": [],
      "source": []
    }
  ],
  "metadata": {
    "kernelspec": {
      "display_name": "Python 3 (ipykernel)",
      "language": "python",
      "name": "python3"
    },
    "language_info": {
      "codemirror_mode": {
        "name": "ipython",
        "version": 3
      },
      "file_extension": ".py",
      "mimetype": "text/x-python",
      "name": "python",
      "nbconvert_exporter": "python",
      "pygments_lexer": "ipython3",
      "version": "3.10.9"
    },
    "colab": {
      "provenance": []
    }
  },
  "nbformat": 4,
  "nbformat_minor": 0
}